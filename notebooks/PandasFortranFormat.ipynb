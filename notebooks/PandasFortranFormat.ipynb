{
 "cells": [
  {
   "cell_type": "markdown",
   "metadata": {},
   "source": [
    "# Writing pandas dataframes as fortran-formatted csv files\n",
    "\n",
    "Say you have a pandas dataframe, `df`, and you need to write that dataframe as a fortran-readable csv file with a very specific formatting. Here's a simple approach that makes use of the [fortranformat](https://pypi.org/project/fortranformat/) package. \n",
    "\n",
    "The following notebook builds up a working example, but if you just want the minimal code snippet to understand, here it is: \n",
    "\n",
    "```\n",
    "import fortranformat as ff\n",
    "\n",
    "format_string='(a20, f15.2, f15.2, f15.5 ,i15)'\n",
    "header_line = ff.FortranRecordWriter(format_string)\n",
    "Formatted_df=df.apply(lambda x : header_line.write(x.values),axis=1)\n",
    "```\n",
    "\n",
    "The final object, `Formatted_df` will be a `Series` the length of the original dataframe and a given element in the `Series` will be the formatted string for the corresponding row in the dataframe. Once you have that, you can write it to a file with \n",
    "\n",
    "```\n",
    "Formatted_df.to_csv('formatted_df.csv',index=False,header=False)\n",
    "```\n",
    "\n",
    "The rest of this notebook builds a test dataframe, applies the above formatting and outputs it. Throughout, I'm assuming you're already familiar with fortran read/write formatting. "
   ]
  },
  {
   "cell_type": "markdown",
   "metadata": {},
   "source": [
    "## a working example\n",
    "\n",
    "Let's start by importing all the things we'll use and creating a function to build a dataframe with a mix of data types: "
   ]
  },
  {
   "cell_type": "code",
   "execution_count": 1,
   "metadata": {},
   "outputs": [],
   "source": [
    "%matplotlib inline\n",
    "\n",
    "import fortranformat as ff, pandas as pd, numpy as np\n",
    "import os, random,string,time\n",
    "import matplotlib.pyplot as plt \n",
    "\n",
    "def buildTestData(Nrows):\n",
    "    ''' build a test dataframe with a mix of strings, integers and floats with number of rows as input''' \n",
    "    samp_names = [] \n",
    "    for sampNum in range(0,Nrows):\n",
    "        Nchars=int(np.random.rand(1)[0]*10)+3 \n",
    "        samp_names.append(''.join(random.choices(string.ascii_uppercase + string.digits, k = Nchars)))\n",
    "        \n",
    "    df = pd.DataFrame({\n",
    "        'sample_name': samp_names,        \n",
    "        'lat' : np.linspace(30,14,Nrows),\n",
    "        'lon' : np.linspace(200,230,Nrows),\n",
    "        'obs' : np.random.random(Nrows),\n",
    "        'Nobs': (np.random.random(Nrows)*100).astype(int)\n",
    "    })\n",
    "    return df "
   ]
  },
  {
   "cell_type": "code",
   "execution_count": 2,
   "metadata": {},
   "outputs": [
    {
     "data": {
      "text/html": [
       "<div>\n",
       "<style scoped>\n",
       "    .dataframe tbody tr th:only-of-type {\n",
       "        vertical-align: middle;\n",
       "    }\n",
       "\n",
       "    .dataframe tbody tr th {\n",
       "        vertical-align: top;\n",
       "    }\n",
       "\n",
       "    .dataframe thead th {\n",
       "        text-align: right;\n",
       "    }\n",
       "</style>\n",
       "<table border=\"1\" class=\"dataframe\">\n",
       "  <thead>\n",
       "    <tr style=\"text-align: right;\">\n",
       "      <th></th>\n",
       "      <th>sample_name</th>\n",
       "      <th>lat</th>\n",
       "      <th>lon</th>\n",
       "      <th>obs</th>\n",
       "      <th>Nobs</th>\n",
       "    </tr>\n",
       "  </thead>\n",
       "  <tbody>\n",
       "    <tr>\n",
       "      <td>0</td>\n",
       "      <td>6USTN45ZNOR</td>\n",
       "      <td>30.000000</td>\n",
       "      <td>200.000000</td>\n",
       "      <td>0.518470</td>\n",
       "      <td>0</td>\n",
       "    </tr>\n",
       "    <tr>\n",
       "      <td>1</td>\n",
       "      <td>V2A9E</td>\n",
       "      <td>29.838384</td>\n",
       "      <td>200.303030</td>\n",
       "      <td>0.940106</td>\n",
       "      <td>39</td>\n",
       "    </tr>\n",
       "    <tr>\n",
       "      <td>2</td>\n",
       "      <td>A5O1Q940</td>\n",
       "      <td>29.676768</td>\n",
       "      <td>200.606061</td>\n",
       "      <td>0.993028</td>\n",
       "      <td>65</td>\n",
       "    </tr>\n",
       "    <tr>\n",
       "      <td>3</td>\n",
       "      <td>IG98UF0</td>\n",
       "      <td>29.515152</td>\n",
       "      <td>200.909091</td>\n",
       "      <td>0.665703</td>\n",
       "      <td>58</td>\n",
       "    </tr>\n",
       "    <tr>\n",
       "      <td>4</td>\n",
       "      <td>0WXBCQU67O</td>\n",
       "      <td>29.353535</td>\n",
       "      <td>201.212121</td>\n",
       "      <td>0.844105</td>\n",
       "      <td>27</td>\n",
       "    </tr>\n",
       "  </tbody>\n",
       "</table>\n",
       "</div>"
      ],
      "text/plain": [
       "   sample_name        lat         lon       obs  Nobs\n",
       "0  6USTN45ZNOR  30.000000  200.000000  0.518470     0\n",
       "1        V2A9E  29.838384  200.303030  0.940106    39\n",
       "2     A5O1Q940  29.676768  200.606061  0.993028    65\n",
       "3      IG98UF0  29.515152  200.909091  0.665703    58\n",
       "4   0WXBCQU67O  29.353535  201.212121  0.844105    27"
      ]
     },
     "execution_count": 2,
     "metadata": {},
     "output_type": "execute_result"
    }
   ],
   "source": [
    "df = buildTestData(100)\n",
    "df.head()"
   ]
  },
  {
   "cell_type": "markdown",
   "metadata": {},
   "source": [
    "Now, we initialize the `fortranformat` record writer with a fortan format string: "
   ]
  },
  {
   "cell_type": "code",
   "execution_count": 3,
   "metadata": {},
   "outputs": [],
   "source": [
    "format_string='(a20, f15.2, f15.2, f15.5 ,i15)'\n",
    "header_line = ff.FortranRecordWriter(format_string)"
   ]
  },
  {
   "cell_type": "markdown",
   "metadata": {},
   "source": [
    "To apply the record writer to a single row of the dataframe, you can do: "
   ]
  },
  {
   "cell_type": "code",
   "execution_count": 4,
   "metadata": {},
   "outputs": [
    {
     "data": {
      "text/plain": [
       "'         6USTN45ZNOR          30.00         200.00        0.51847              0'"
      ]
     },
     "execution_count": 4,
     "metadata": {},
     "output_type": "execute_result"
    }
   ],
   "source": [
    "header_line.write(df.loc[0].values)"
   ]
  },
  {
   "cell_type": "markdown",
   "metadata": {},
   "source": [
    "but we wnat to use it on all the rows. As I show at the end of this notebook, using `df.apply` is faster than manually looping: "
   ]
  },
  {
   "cell_type": "code",
   "execution_count": 5,
   "metadata": {},
   "outputs": [],
   "source": [
    "Formatted_df=df.apply(lambda x : header_line.write(x.values),axis=1)"
   ]
  },
  {
   "cell_type": "markdown",
   "metadata": {},
   "source": [
    "What comes out is a `pandas.Series` object, where each record is a single row of the original dataframe formatted as a string: "
   ]
  },
  {
   "cell_type": "code",
   "execution_count": 6,
   "metadata": {},
   "outputs": [
    {
     "data": {
      "text/plain": [
       "0             6USTN45ZNOR          30.00         20...\n",
       "1                   V2A9E          29.84         20...\n",
       "2                A5O1Q940          29.68         20...\n",
       "3                 IG98UF0          29.52         20...\n",
       "4              0WXBCQU67O          29.35         20...\n",
       "dtype: object"
      ]
     },
     "execution_count": 6,
     "metadata": {},
     "output_type": "execute_result"
    }
   ],
   "source": [
    "Formatted_df.head()"
   ]
  },
  {
   "cell_type": "markdown",
   "metadata": {},
   "source": [
    "So to write it out, you can just use `Formatted_df.to_csv`. The following initializes a file with a few header lines containing the colum names and the format string that we used to generate the file: "
   ]
  },
  {
   "cell_type": "code",
   "execution_count": 7,
   "metadata": {},
   "outputs": [],
   "source": [
    "output_fi='formatted_df.csv'\n",
    "col_names=df.columns.tolist()\n",
    "with open(output_fi,'w') as outfi: \n",
    "    outfi.write('# '+' '.join(col_names)+\"\\n\")\n",
    "    outfi.write('# '+format_string+\"\\n\")\n",
    "    \n",
    "Formatted_df.to_csv(output_fi,mode='a',index=False,header=False)"
   ]
  },
  {
   "cell_type": "markdown",
   "metadata": {},
   "source": [
    "So let's take a look at the first 10 lines of the file we just wrote: "
   ]
  },
  {
   "cell_type": "code",
   "execution_count": 8,
   "metadata": {},
   "outputs": [
    {
     "name": "stdout",
     "output_type": "stream",
     "text": [
      "# sample_name lat lon obs Nobs\n",
      "\n",
      "# (a20, f15.2, f15.2, f15.5 ,i15)\n",
      "\n",
      "         6USTN45ZNOR          30.00         200.00        0.51847              0\n",
      "\n",
      "               V2A9E          29.84         200.30        0.94011             39\n",
      "\n",
      "            A5O1Q940          29.68         200.61        0.99303             65\n",
      "\n",
      "             IG98UF0          29.52         200.91        0.66570             58\n",
      "\n",
      "          0WXBCQU67O          29.35         201.21        0.84411             27\n",
      "\n",
      "               WVT50          29.19         201.52        0.98179             34\n",
      "\n",
      "             UQRASDW          29.03         201.82        0.41387             95\n",
      "\n",
      "                ZN2T          28.87         202.12        0.83129             77\n",
      "\n"
     ]
    }
   ],
   "source": [
    "outfi = open(output_fi,'r')\n",
    "for i in range(10): \n",
    "    print(outfi.readline())\n",
    "outfi.close()    "
   ]
  },
  {
   "cell_type": "markdown",
   "metadata": {},
   "source": [
    "**To read the file back in**, we can use `pd.read_csv` with `delim_whitespace=True` to signify variable whitespace as the delimiter. "
   ]
  },
  {
   "cell_type": "code",
   "execution_count": 9,
   "metadata": {},
   "outputs": [
    {
     "data": {
      "text/html": [
       "<div>\n",
       "<style scoped>\n",
       "    .dataframe tbody tr th:only-of-type {\n",
       "        vertical-align: middle;\n",
       "    }\n",
       "\n",
       "    .dataframe tbody tr th {\n",
       "        vertical-align: top;\n",
       "    }\n",
       "\n",
       "    .dataframe thead th {\n",
       "        text-align: right;\n",
       "    }\n",
       "</style>\n",
       "<table border=\"1\" class=\"dataframe\">\n",
       "  <thead>\n",
       "    <tr style=\"text-align: right;\">\n",
       "      <th></th>\n",
       "      <th>sample_name</th>\n",
       "      <th>lat</th>\n",
       "      <th>lon</th>\n",
       "      <th>obs</th>\n",
       "      <th>Nobs</th>\n",
       "    </tr>\n",
       "  </thead>\n",
       "  <tbody>\n",
       "    <tr>\n",
       "      <td>0</td>\n",
       "      <td>6USTN45ZNOR</td>\n",
       "      <td>30.00</td>\n",
       "      <td>200.00</td>\n",
       "      <td>0.51847</td>\n",
       "      <td>0</td>\n",
       "    </tr>\n",
       "    <tr>\n",
       "      <td>1</td>\n",
       "      <td>V2A9E</td>\n",
       "      <td>29.84</td>\n",
       "      <td>200.30</td>\n",
       "      <td>0.94011</td>\n",
       "      <td>39</td>\n",
       "    </tr>\n",
       "    <tr>\n",
       "      <td>2</td>\n",
       "      <td>A5O1Q940</td>\n",
       "      <td>29.68</td>\n",
       "      <td>200.61</td>\n",
       "      <td>0.99303</td>\n",
       "      <td>65</td>\n",
       "    </tr>\n",
       "    <tr>\n",
       "      <td>3</td>\n",
       "      <td>IG98UF0</td>\n",
       "      <td>29.52</td>\n",
       "      <td>200.91</td>\n",
       "      <td>0.66570</td>\n",
       "      <td>58</td>\n",
       "    </tr>\n",
       "    <tr>\n",
       "      <td>4</td>\n",
       "      <td>0WXBCQU67O</td>\n",
       "      <td>29.35</td>\n",
       "      <td>201.21</td>\n",
       "      <td>0.84411</td>\n",
       "      <td>27</td>\n",
       "    </tr>\n",
       "  </tbody>\n",
       "</table>\n",
       "</div>"
      ],
      "text/plain": [
       "   sample_name    lat     lon      obs  Nobs\n",
       "0  6USTN45ZNOR  30.00  200.00  0.51847     0\n",
       "1        V2A9E  29.84  200.30  0.94011    39\n",
       "2     A5O1Q940  29.68  200.61  0.99303    65\n",
       "3      IG98UF0  29.52  200.91  0.66570    58\n",
       "4   0WXBCQU67O  29.35  201.21  0.84411    27"
      ]
     },
     "execution_count": 9,
     "metadata": {},
     "output_type": "execute_result"
    }
   ],
   "source": [
    "df = pd.read_csv(output_fi,skiprows=2,names=col_names,delim_whitespace=True)\n",
    "df.head()"
   ]
  },
  {
   "cell_type": "markdown",
   "metadata": {},
   "source": [
    "If we didn't already know the column names, we could have parsed the header rows to figure it out.\n",
    "\n",
    "**So in summary, the following code does it all:**"
   ]
  },
  {
   "cell_type": "code",
   "execution_count": 10,
   "metadata": {},
   "outputs": [],
   "source": [
    "format_string='(a20, f15.2, f15.2, f15.5 ,i15)'\n",
    "header_line = ff.FortranRecordWriter(format_string)\n",
    "\n",
    "Formatted_df=df.apply(lambda x : header_line.write(x.values),axis=1)\n",
    "\n",
    "output_fi='formatted_df.csv'\n",
    "col_names=df.columns.tolist()\n",
    "with open(output_fi,'w') as outfi: \n",
    "    outfi.write('# '+' '.join(col_names)+\"\\n\")\n",
    "    outfi.write('# '+format_string+\"\\n\")\n",
    "    \n",
    "Formatted_df.to_csv(output_fi,mode='a',index=False,header=False)"
   ]
  },
  {
   "cell_type": "markdown",
   "metadata": {},
   "source": [
    "## controlling column ordering \n",
    "One important caveat is that we've assumed that we know the dataframe column ordering. If we didn't, or if we wanted to change the order for writing, we could do the following:"
   ]
  },
  {
   "cell_type": "code",
   "execution_count": 11,
   "metadata": {},
   "outputs": [
    {
     "name": "stdout",
     "output_type": "stream",
     "text": [
      "(f15.2 , a20 , f15.2 , f15.5 , i15)\n"
     ]
    },
    {
     "data": {
      "text/plain": [
       "0               30.00         6USTN45ZNOR         20...\n",
       "1               29.84               V2A9E         20...\n",
       "2               29.68            A5O1Q940         20...\n",
       "3               29.52             IG98UF0         20...\n",
       "4               29.35          0WXBCQU67O         20...\n",
       "                            ...                        \n",
       "95              14.65            078A54H2         22...\n",
       "96              14.48           22Z4DFF4V         22...\n",
       "97              14.32            EQ7DYKZB         22...\n",
       "98              14.16           66B0B24AN         22...\n",
       "99              14.00                 EUZ         23...\n",
       "Length: 100, dtype: object"
      ]
     },
     "execution_count": 11,
     "metadata": {},
     "output_type": "execute_result"
    }
   ],
   "source": [
    "# specifiy format of each as an ordered dict, moving the sample_name to second column\n",
    "import collections \n",
    "format_dict=collections.OrderedDict(lat='f15.2',sample_name='a20',lon='f15.2',obs='f15.5',Nobs='i15')\n",
    "\n",
    "# build the format string \n",
    "format_string='('+\" , \".join(format_dict.values()) + ')'\n",
    "print(format_string)\n",
    "header_line = ff.FortranRecordWriter(format_string)\n",
    "\n",
    "# now use apply, but pull the columns using the ordered dict keys to ensure ordering: \n",
    "Formatted_df=df.apply(lambda x : header_line.write(x[format_dict.keys()]),axis=1)\n",
    "Formatted_df\n"
   ]
  },
  {
   "cell_type": "markdown",
   "metadata": {},
   "source": [
    "## Is it faster than looping? (yes)\n",
    "\n",
    "While using `apply` with a fortranformat `FortranRecordWriter` is nice and tidy, it's not clear that it will be any faster than a manual iteration over the records, as `apply` will end up looping under the hood. So here's a test! The following function captures everything above with an additional argument, `method`. If `method` is `apply`, then we'll build a dataframe of `Nrows` and format it exactly as above. If the method is `iter`, then we'll manually loop over the dataframe and format each row ourselves (using the same fortranformat writer). "
   ]
  },
  {
   "cell_type": "code",
   "execution_count": 12,
   "metadata": {},
   "outputs": [],
   "source": [
    "def testCase(Nrows,method='apply'):\n",
    "    df = buildTestData(Nrows)\n",
    "    format_string='(a10, f15.2, f15.2, f15.5 ,i15)'\n",
    "    header_line = ff.FortranRecordWriter(format_string)\n",
    "    \n",
    "    # set up the output file \n",
    "    output_fi='formatted_df.csv'\n",
    "    col_names=df.columns.tolist()\n",
    "    with open(output_fi,'w') as outfi: \n",
    "        outfi.write('# '+' '.join(col_names)+\"\\n\")\n",
    "        outfi.write('# '+format_string+\"\\n\")\n",
    "    \n",
    "    if method=='apply':        \n",
    "        Formatted_df=df.apply(lambda x : header_line.write(x.values),axis=1)    \n",
    "        Formatted_df.to_csv(output_fi,mode='a',index=False,header=False)\n",
    "    elif method=='iter':\n",
    "        outfi=open(output_fi,'a')\n",
    "        for rowid,vals in df.iterrows():    \n",
    "            outfi.write(header_line.write(vals.values)+\"\\n\" )\n",
    "        outfi.close()\n",
    "    return None"
   ]
  },
  {
   "cell_type": "markdown",
   "metadata": {},
   "source": [
    "The time savings will probably be most noticeable for large dataframes, so we'll run both methods for a range of dataframe sizes: "
   ]
  },
  {
   "cell_type": "code",
   "execution_count": 13,
   "metadata": {},
   "outputs": [],
   "source": [
    "runTimes={'apply':[],'iter':[],'nrows':[]}\n",
    "\n",
    "for nRows in np.logspace(2,6,10).astype('int'):\n",
    "    runTimes['nrows'].append(nRows)\n",
    "    for meth in ['iter','apply']:\n",
    "        time1= time.time()\n",
    "        run=testCase(nRows,method=meth)\n",
    "        runTimes[meth].append(time.time()-time1)"
   ]
  },
  {
   "cell_type": "markdown",
   "metadata": {},
   "source": [
    "And now let's plot the computation time of each: "
   ]
  },
  {
   "cell_type": "code",
   "execution_count": 14,
   "metadata": {},
   "outputs": [
    {
     "data": {
      "image/png": "[encoded data removed]",
      "text/plain": [
       "<Figure size 432x288 with 1 Axes>"
      ]
     },
     "metadata": {
      "needs_background": "light"
     },
     "output_type": "display_data"
    }
   ],
   "source": [
    "f=plt.figure()\n",
    "for meth in ['iter','apply']:\n",
    "    runTimes[meth]=np.array(runTimes[meth])\n",
    "    plt.semilogx(runTimes['nrows'],runTimes[meth],label=meth,marker='.')\n",
    "plt.xlabel('N rows')    \n",
    "plt.ylabel('Computation time [s]')\n",
    "plt.legend()    \n",
    "plt.show()"
   ]
  },
  {
   "cell_type": "markdown",
   "metadata": {},
   "source": [
    "and a speedup factor: "
   ]
  },
  {
   "cell_type": "code",
   "execution_count": 15,
   "metadata": {},
   "outputs": [
    {
     "data": {
      "image/png": "[encoded data removed]",
      "text/plain": [
       "<Figure size 432x288 with 1 Axes>"
      ]
     },
     "metadata": {
      "needs_background": "light"
     },
     "output_type": "display_data"
    }
   ],
   "source": [
    "f=plt.figure()\n",
    "plt.semilogx(runTimes['nrows'],(runTimes['apply'])/runTimes['iter']*100,marker='.')\n",
    "plt.xlabel('N rows')    \n",
    "plt.ylabel('Apply / Iter Speed ')\n",
    "plt.show()\n"
   ]
  },
  {
   "cell_type": "markdown",
   "metadata": {},
   "source": [
    "So above about 1000 rows, `apply` + fortran formatting is about 42% faster than a manual loop, so definitely the way to go. "
   ]
  },
  {
   "cell_type": "code",
   "execution_count": null,
   "metadata": {},
   "outputs": [],
   "source": []
  }
 ],
 "metadata": {
  "kernelspec": {
   "display_name": "Python 3",
   "language": "python",
   "name": "python3"
  },
  "language_info": {
   "codemirror_mode": {
    "name": "ipython",
    "version": 3
   },
   "file_extension": ".py",
   "mimetype": "text/x-python",
   "name": "python",
   "nbconvert_exporter": "python",
   "pygments_lexer": "ipython3",
   "version": "3.6.7"
  }
 },
 "nbformat": 4,
 "nbformat_minor": 4
}
