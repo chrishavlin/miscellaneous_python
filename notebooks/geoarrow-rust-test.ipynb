{
 "cells": [
  {
   "cell_type": "markdown",
   "id": "4447dec3-6d64-4809-944d-4939909d658d",
   "metadata": {},
   "source": [
    "https://geoarrow.github.io/geoarrow-rs/python/latest/ "
   ]
  },
  {
   "cell_type": "code",
   "execution_count": 1,
   "id": "b69dd1c2-9a9a-4ecd-9fdd-44291d0e3b67",
   "metadata": {},
   "outputs": [],
   "source": [
    "import geoarrow"
   ]
  },
  {
   "cell_type": "code",
   "execution_count": 2,
   "id": "826d1d41-dfbe-430d-8a22-c82f889f6291",
   "metadata": {},
   "outputs": [],
   "source": [
    "from geoarrow.rust.core import PointArray"
   ]
  },
  {
   "cell_type": "code",
   "execution_count": 3,
   "id": "762ee559-e71d-4c3a-b173-c5040be3cf12",
   "metadata": {},
   "outputs": [
    {
     "data": {
      "text/plain": [
       "\u001b[0;31mInit signature:\u001b[0m \u001b[0mPointArray\u001b[0m\u001b[0;34m(\u001b[0m\u001b[0mself\u001b[0m\u001b[0;34m,\u001b[0m \u001b[0;34m/\u001b[0m\u001b[0;34m,\u001b[0m \u001b[0;34m*\u001b[0m\u001b[0margs\u001b[0m\u001b[0;34m,\u001b[0m \u001b[0;34m**\u001b[0m\u001b[0mkwargs\u001b[0m\u001b[0;34m)\u001b[0m\u001b[0;34m\u001b[0m\u001b[0;34m\u001b[0m\u001b[0m\n",
       "\u001b[0;31mDocstring:\u001b[0m      An immutable array of Point geometries using GeoArrow's in-memory representation.\n",
       "\u001b[0;31mFile:\u001b[0m           ~/.pyenv/versions/3.10.6/envs/geoarrowtest/lib/python3.10/site-packages/geoarrow/rust/core/_rust.abi3.so\n",
       "\u001b[0;31mType:\u001b[0m           type\n",
       "\u001b[0;31mSubclasses:\u001b[0m     "
      ]
     },
     "metadata": {},
     "output_type": "display_data"
    }
   ],
   "source": [
    "PointArray?"
   ]
  },
  {
   "cell_type": "code",
   "execution_count": 6,
   "id": "fd1fdc32-9d6a-410c-8ed0-c49c5d2ae884",
   "metadata": {},
   "outputs": [],
   "source": [
    "# https://geoarrow.github.io/geoarrow-python/main/index.html\n",
    "# https://geoarrow.github.io/geoarrow-rs/python/latest/ecosystem/geopandas/\n",
    "import geopandas\n",
    "import os \n",
    "\n",
    "path = \"temporary_file.parquet\"\n",
    "\n",
    "if os.path.isfile(path) is False: \n",
    "    url = \"https://github.com/geoarrow/geoarrow-data/releases/download/v0.1.0/ns-water-basin_line.fgb.zip\"\n",
    "    df = geopandas.read_file(url)    \n",
    "    # geoarrow-rust needs to read from parquet...\n",
    "    df.to_parquet(path)\n"
   ]
  },
  {
   "cell_type": "code",
   "execution_count": 7,
   "id": "1902edc2-6125-4cbb-8ec4-5e92cd536f21",
   "metadata": {},
   "outputs": [],
   "source": [
    "from geoarrow.rust.core import read_parquet\n",
    "df_geoa = read_parquet(path)"
   ]
  },
  {
   "cell_type": "code",
   "execution_count": 10,
   "id": "fae42a95-6cd0-4113-9fcf-f31a0b64fd58",
   "metadata": {},
   "outputs": [
    {
     "data": {
      "text/plain": [
       "14"
      ]
     },
     "execution_count": 10,
     "metadata": {},
     "output_type": "execute_result"
    }
   ],
   "source": [
    "df_geoa.num_columns"
   ]
  },
  {
   "cell_type": "code",
   "execution_count": 12,
   "id": "8dcf80fc-579a-4067-91eb-e06acc0b5c5d",
   "metadata": {},
   "outputs": [],
   "source": [
    "cpa = df_geoa.geometry.centroid()"
   ]
  },
  {
   "cell_type": "code",
   "execution_count": 16,
   "id": "b26bcaa7-3cdf-49b8-a00a-b26d91a192b9",
   "metadata": {},
   "outputs": [
    {
     "name": "stdout",
     "output_type": "stream",
     "text": [
      "<geoarrow.rust.core._rust.ChunkedPointArray object at 0x7f6e90689530>\n"
     ]
    }
   ],
   "source": [
    "print(cpa)"
   ]
  },
  {
   "cell_type": "code",
   "execution_count": 18,
   "id": "c1d137d0-3043-4aae-afa6-a179298edef7",
   "metadata": {},
   "outputs": [
    {
     "data": {
      "text/plain": [
       "1"
      ]
     },
     "execution_count": 18,
     "metadata": {},
     "output_type": "execute_result"
    }
   ],
   "source": [
    "cpa.num_chunks()"
   ]
  },
  {
   "cell_type": "code",
   "execution_count": null,
   "id": "289fc9c5-8d1c-4ce1-9667-86aa333f03f6",
   "metadata": {},
   "outputs": [],
   "source": []
  }
 ],
 "metadata": {
  "kernelspec": {
   "display_name": "Python 3 (ipykernel)",
   "language": "python",
   "name": "python3"
  },
  "language_info": {
   "codemirror_mode": {
    "name": "ipython",
    "version": 3
   },
   "file_extension": ".py",
   "mimetype": "text/x-python",
   "name": "python",
   "nbconvert_exporter": "python",
   "pygments_lexer": "ipython3",
   "version": "3.10.6"
  }
 },
 "nbformat": 4,
 "nbformat_minor": 5
}
